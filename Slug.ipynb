{
 "cells": [
  {
   "cell_type": "markdown",
   "metadata": {},
   "source": [
    "\n",
    "<img src=\"https://static.independent.co.uk/s3fs-public/thumbnails/image/2012/07/14/21/SU18-slug.jpg\" width=\"20%\">"
   ]
  },
  {
   "cell_type": "code",
   "execution_count": 1,
   "metadata": {
    "ExecuteTime": {
     "end_time": "2020-01-28T21:05:51.447899Z",
     "start_time": "2020-01-28T21:05:50.063849Z"
    }
   },
   "outputs": [],
   "source": [
    "import pandas as pd\n",
    "import numpy as np\n",
    "import requests\n",
    "import time\n",
    "\n",
    "from bs4 import BeautifulSoup\n"
   ]
  },
  {
   "cell_type": "code",
   "execution_count": 2,
   "metadata": {
    "ExecuteTime": {
     "end_time": "2020-01-28T21:05:53.544331Z",
     "start_time": "2020-01-28T21:05:51.450858Z"
    }
   },
   "outputs": [
    {
     "name": "stdout",
     "output_type": "stream",
     "text": [
      "200 200\n"
     ]
    }
   ],
   "source": [
    "# required score\n",
    "score_req = 1000\n",
    "# desired post count\n",
    "post_count = 10_000\n",
    "\n",
    "# retriving starting data\n",
    "fifth_url = f\"https://api.pushshift.io/reddit/search/submission?subreddit=fifthworldproblems&size=500&score%3E{score_req}\"\n",
    "first_url = f\"https://api.pushshift.io/reddit/search/submission?subreddit=firstworldproblems&size=500&score%3E{score_req}\"\n",
    "\n",
    "fifth_res = requests.get(fifth_url)\n",
    "first_res = requests.get(first_url)\n",
    "\n",
    "\n",
    "print(fifth_res.status_code, first_res.status_code)\n",
    "\n",
    "\n",
    "fifth_res = fifth_res.json()\n",
    "first_res = first_res.json()"
   ]
  },
  {
   "cell_type": "code",
   "execution_count": 3,
   "metadata": {
    "ExecuteTime": {
     "end_time": "2020-01-28T21:05:53.579331Z",
     "start_time": "2020-01-28T21:05:53.547334Z"
    }
   },
   "outputs": [
    {
     "data": {
      "text/html": [
       "<div>\n",
       "<style scoped>\n",
       "    .dataframe tbody tr th:only-of-type {\n",
       "        vertical-align: middle;\n",
       "    }\n",
       "\n",
       "    .dataframe tbody tr th {\n",
       "        vertical-align: top;\n",
       "    }\n",
       "\n",
       "    .dataframe thead th {\n",
       "        text-align: right;\n",
       "    }\n",
       "</style>\n",
       "<table border=\"1\" class=\"dataframe\">\n",
       "  <thead>\n",
       "    <tr style=\"text-align: right;\">\n",
       "      <th></th>\n",
       "      <th>title</th>\n",
       "      <th>selftext</th>\n",
       "      <th>created_utc</th>\n",
       "      <th>permalink</th>\n",
       "    </tr>\n",
       "  </thead>\n",
       "  <tbody>\n",
       "    <tr>\n",
       "      <th>499</th>\n",
       "      <td>I'd been outside of my body for several weeks ...</td>\n",
       "      <td></td>\n",
       "      <td>1577142727</td>\n",
       "      <td>/r/fifthworldproblems/comments/ees9ue/id_been_...</td>\n",
       "    </tr>\n",
       "  </tbody>\n",
       "</table>\n",
       "</div>"
      ],
      "text/plain": [
       "                                                 title selftext  created_utc  \\\n",
       "499  I'd been outside of my body for several weeks ...            1577142727   \n",
       "\n",
       "                                             permalink  \n",
       "499  /r/fifthworldproblems/comments/ees9ue/id_been_...  "
      ]
     },
     "execution_count": 3,
     "metadata": {},
     "output_type": "execute_result"
    }
   ],
   "source": [
    "# checking data structure\n",
    "\n",
    "fifth_res_df = pd.DataFrame(fifth_res['data'])\n",
    "fifth_res_df[['title', 'selftext', 'created_utc', 'permalink']].sort_values('created_utc').head(1)"
   ]
  },
  {
   "cell_type": "code",
   "execution_count": 4,
   "metadata": {
    "ExecuteTime": {
     "end_time": "2020-01-28T21:05:53.605380Z",
     "start_time": "2020-01-28T21:05:53.581331Z"
    }
   },
   "outputs": [
    {
     "data": {
      "text/html": [
       "<div>\n",
       "<style scoped>\n",
       "    .dataframe tbody tr th:only-of-type {\n",
       "        vertical-align: middle;\n",
       "    }\n",
       "\n",
       "    .dataframe tbody tr th {\n",
       "        vertical-align: top;\n",
       "    }\n",
       "\n",
       "    .dataframe thead th {\n",
       "        text-align: right;\n",
       "    }\n",
       "</style>\n",
       "<table border=\"1\" class=\"dataframe\">\n",
       "  <thead>\n",
       "    <tr style=\"text-align: right;\">\n",
       "      <th></th>\n",
       "      <th>title</th>\n",
       "      <th>selftext</th>\n",
       "      <th>created_utc</th>\n",
       "      <th>permalink</th>\n",
       "    </tr>\n",
       "  </thead>\n",
       "  <tbody>\n",
       "    <tr>\n",
       "      <th>499</th>\n",
       "      <td>Poor Mylow how will he ever cope</td>\n",
       "      <td></td>\n",
       "      <td>1578565489</td>\n",
       "      <td>/r/firstworldproblems/comments/em7th2/poor_myl...</td>\n",
       "    </tr>\n",
       "  </tbody>\n",
       "</table>\n",
       "</div>"
      ],
      "text/plain": [
       "                                title selftext  created_utc  \\\n",
       "499  Poor Mylow how will he ever cope            1578565489   \n",
       "\n",
       "                                             permalink  \n",
       "499  /r/firstworldproblems/comments/em7th2/poor_myl...  "
      ]
     },
     "execution_count": 4,
     "metadata": {},
     "output_type": "execute_result"
    }
   ],
   "source": [
    "first_res_df = pd.DataFrame(first_res['data'])\n",
    "first_res_df[['title', 'selftext', 'created_utc', 'permalink']].sort_values('created_utc').head(1)"
   ]
  },
  {
   "cell_type": "code",
   "execution_count": 5,
   "metadata": {
    "ExecuteTime": {
     "end_time": "2020-01-28T21:07:01.525742Z",
     "start_time": "2020-01-28T21:05:53.607355Z"
    }
   },
   "outputs": [],
   "source": [
    "# setup for urls to be added to\n",
    "fifth_urls = [fifth_url]\n",
    "first_urls = [first_url]\n",
    "# finding the earliest post date to prevent post overlap\n",
    "fifth_date = fifth_res_df.sort_values('created_utc').reset_index()['created_utc'][0]\n",
    "first_date = first_res_df.sort_values('created_utc').reset_index()['created_utc'][0]\n",
    "\n",
    "# looping for all urls\n",
    "for i in range(int(post_count / 500)):\n",
    "    # calling api\n",
    "    fifth_temp = requests.get(f\"https://api.pushshift.io/reddit/search/submission?subreddit=fifthworldproblems&size=500&score%3E{score_req}&before={fifth_date}\")\n",
    "    first_temp = requests.get(f\"https://api.pushshift.io/reddit/search/submission?subreddit=firstworldproblems&size=500&score%3E{score_req}&before={first_date}\")\n",
    "    \n",
    "    fifth_temp = fifth_temp.json()\n",
    "    first_temp = first_temp.json()\n",
    "    #retriving earliest post date\n",
    "    fifth_temp = pd.DataFrame(fifth_temp['data'])\n",
    "    first_temp = pd.DataFrame(first_temp['data'])\n",
    "    #adding api calls with earliest post date to list\n",
    "    fifth_urls.append(f\"https://api.pushshift.io/reddit/search/submission?subreddit=fifthworldproblems&size=500&score%3E{score_req}&before={fifth_date}\")\n",
    "    first_urls.append(f\"https://api.pushshift.io/reddit/search/submission?subreddit=firstworldproblems&size=500&score%3E{score_req}&before={first_date}\")\n",
    "    \n",
    "    \n",
    "    #setting the new earliest post date\n",
    "    fifth_date = fifth_temp.sort_values('created_utc').reset_index()['created_utc'][0]\n",
    "    first_date = first_temp.sort_values('created_utc').reset_index()['created_utc'][0]\n",
    "    #resting api\n",
    "    time.sleep(1)\n"
   ]
  },
  {
   "cell_type": "code",
   "execution_count": 6,
   "metadata": {
    "ExecuteTime": {
     "end_time": "2020-01-28T21:07:01.533702Z",
     "start_time": "2020-01-28T21:07:01.527699Z"
    }
   },
   "outputs": [
    {
     "data": {
      "text/plain": [
       "(['https://api.pushshift.io/reddit/search/submission?subreddit=fifthworldproblems&size=500&score%3E1000',\n",
       "  'https://api.pushshift.io/reddit/search/submission?subreddit=fifthworldproblems&size=500&score%3E1000&before=1577142727',\n",
       "  'https://api.pushshift.io/reddit/search/submission?subreddit=fifthworldproblems&size=500&score%3E1000&before=1574210758',\n",
       "  'https://api.pushshift.io/reddit/search/submission?subreddit=fifthworldproblems&size=500&score%3E1000&before=1571181090',\n",
       "  'https://api.pushshift.io/reddit/search/submission?subreddit=fifthworldproblems&size=500&score%3E1000&before=1568809640',\n",
       "  'https://api.pushshift.io/reddit/search/submission?subreddit=fifthworldproblems&size=500&score%3E1000&before=1565588987',\n",
       "  'https://api.pushshift.io/reddit/search/submission?subreddit=fifthworldproblems&size=500&score%3E1000&before=1562189665',\n",
       "  'https://api.pushshift.io/reddit/search/submission?subreddit=fifthworldproblems&size=500&score%3E1000&before=1559539008',\n",
       "  'https://api.pushshift.io/reddit/search/submission?subreddit=fifthworldproblems&size=500&score%3E1000&before=1557959210',\n",
       "  'https://api.pushshift.io/reddit/search/submission?subreddit=fifthworldproblems&size=500&score%3E1000&before=1555716910',\n",
       "  'https://api.pushshift.io/reddit/search/submission?subreddit=fifthworldproblems&size=500&score%3E1000&before=1553074526',\n",
       "  'https://api.pushshift.io/reddit/search/submission?subreddit=fifthworldproblems&size=500&score%3E1000&before=1550460294',\n",
       "  'https://api.pushshift.io/reddit/search/submission?subreddit=fifthworldproblems&size=500&score%3E1000&before=1548366005',\n",
       "  'https://api.pushshift.io/reddit/search/submission?subreddit=fifthworldproblems&size=500&score%3E1000&before=1545858672',\n",
       "  'https://api.pushshift.io/reddit/search/submission?subreddit=fifthworldproblems&size=500&score%3E1000&before=1542371615',\n",
       "  'https://api.pushshift.io/reddit/search/submission?subreddit=fifthworldproblems&size=500&score%3E1000&before=1538762652',\n",
       "  'https://api.pushshift.io/reddit/search/submission?subreddit=fifthworldproblems&size=500&score%3E1000&before=1534655885',\n",
       "  'https://api.pushshift.io/reddit/search/submission?subreddit=fifthworldproblems&size=500&score%3E1000&before=1532035043',\n",
       "  'https://api.pushshift.io/reddit/search/submission?subreddit=fifthworldproblems&size=500&score%3E1000&before=1527191529',\n",
       "  'https://api.pushshift.io/reddit/search/submission?subreddit=fifthworldproblems&size=500&score%3E1000&before=1522872963',\n",
       "  'https://api.pushshift.io/reddit/search/submission?subreddit=fifthworldproblems&size=500&score%3E1000&before=1518801572'],\n",
       " ['https://api.pushshift.io/reddit/search/submission?subreddit=firstworldproblems&size=500&score%3E1000',\n",
       "  'https://api.pushshift.io/reddit/search/submission?subreddit=firstworldproblems&size=500&score%3E1000&before=1578565489',\n",
       "  'https://api.pushshift.io/reddit/search/submission?subreddit=firstworldproblems&size=500&score%3E1000&before=1577100870',\n",
       "  'https://api.pushshift.io/reddit/search/submission?subreddit=firstworldproblems&size=500&score%3E1000&before=1575416204',\n",
       "  'https://api.pushshift.io/reddit/search/submission?subreddit=firstworldproblems&size=500&score%3E1000&before=1573664142',\n",
       "  'https://api.pushshift.io/reddit/search/submission?subreddit=firstworldproblems&size=500&score%3E1000&before=1571899433',\n",
       "  'https://api.pushshift.io/reddit/search/submission?subreddit=firstworldproblems&size=500&score%3E1000&before=1570233305',\n",
       "  'https://api.pushshift.io/reddit/search/submission?subreddit=firstworldproblems&size=500&score%3E1000&before=1568580825',\n",
       "  'https://api.pushshift.io/reddit/search/submission?subreddit=firstworldproblems&size=500&score%3E1000&before=1566994130',\n",
       "  'https://api.pushshift.io/reddit/search/submission?subreddit=firstworldproblems&size=500&score%3E1000&before=1565220453',\n",
       "  'https://api.pushshift.io/reddit/search/submission?subreddit=firstworldproblems&size=500&score%3E1000&before=1563552189',\n",
       "  'https://api.pushshift.io/reddit/search/submission?subreddit=firstworldproblems&size=500&score%3E1000&before=1561807500',\n",
       "  'https://api.pushshift.io/reddit/search/submission?subreddit=firstworldproblems&size=500&score%3E1000&before=1560219610',\n",
       "  'https://api.pushshift.io/reddit/search/submission?subreddit=firstworldproblems&size=500&score%3E1000&before=1558586276',\n",
       "  'https://api.pushshift.io/reddit/search/submission?subreddit=firstworldproblems&size=500&score%3E1000&before=1557109575',\n",
       "  'https://api.pushshift.io/reddit/search/submission?subreddit=firstworldproblems&size=500&score%3E1000&before=1555468103',\n",
       "  'https://api.pushshift.io/reddit/search/submission?subreddit=firstworldproblems&size=500&score%3E1000&before=1553571839',\n",
       "  'https://api.pushshift.io/reddit/search/submission?subreddit=firstworldproblems&size=500&score%3E1000&before=1551681601',\n",
       "  'https://api.pushshift.io/reddit/search/submission?subreddit=firstworldproblems&size=500&score%3E1000&before=1549900935',\n",
       "  'https://api.pushshift.io/reddit/search/submission?subreddit=firstworldproblems&size=500&score%3E1000&before=1548300315',\n",
       "  'https://api.pushshift.io/reddit/search/submission?subreddit=firstworldproblems&size=500&score%3E1000&before=1546657444'])"
      ]
     },
     "execution_count": 6,
     "metadata": {},
     "output_type": "execute_result"
    }
   ],
   "source": [
    "#double checking urls\n",
    "fifth_urls, first_urls"
   ]
  },
  {
   "cell_type": "code",
   "execution_count": 7,
   "metadata": {
    "ExecuteTime": {
     "end_time": "2020-01-28T21:11:10.299385Z",
     "start_time": "2020-01-28T21:07:01.538722Z"
    }
   },
   "outputs": [
    {
     "name": "stdout",
     "output_type": "stream",
     "text": [
      "api call failed\n",
      "api call failed\n"
     ]
    }
   ],
   "source": [
    "# setting up list for dictionaries\n",
    "results = []\n",
    "# looping through each api call\n",
    "for url in (fifth_urls + first_urls):\n",
    "    #calling try to prevent failed calls ending code\n",
    "    try:\n",
    "        #grabbing data from api call\n",
    "        res = requests.get(url)\n",
    "        res = res.json()\n",
    "        #looping through api call data\n",
    "        for val in res['data']:\n",
    "            \n",
    "            #initializing a dict for desired data values\n",
    "            temp_dict = {}\n",
    "            #setting key pairs\n",
    "            temp_dict['title'] = val['title']\n",
    "            temp_dict['selftext'] = val['selftext']\n",
    "            temp_dict['link'] = val['permalink']\n",
    "            temp_dict['created_utc'] = val['created_utc']\n",
    "            #running simple if else block to make a key encoding subreddit source\n",
    "            if url in fifth_urls:\n",
    "                temp_dict['is_fifth'] = 1\n",
    "            else:\n",
    "                temp_dict['is_fifth'] = 0\n",
    "            \n",
    "            # adding dictionary of desired data to results\n",
    "            results.append(temp_dict)\n",
    "    except:\n",
    "        print('api call failed')\n",
    "    #resting api\n",
    "    time.sleep(3)\n",
    "\n"
   ]
  },
  {
   "cell_type": "code",
   "execution_count": 8,
   "metadata": {
    "ExecuteTime": {
     "end_time": "2020-01-28T21:11:10.355201Z",
     "start_time": "2020-01-28T21:11:10.301195Z"
    }
   },
   "outputs": [],
   "source": [
    "# creating a pandas dataframe from results\n",
    "results = pd.DataFrame(results)"
   ]
  },
  {
   "cell_type": "code",
   "execution_count": 9,
   "metadata": {
    "ExecuteTime": {
     "end_time": "2020-01-28T21:11:12.241223Z",
     "start_time": "2020-01-28T21:11:10.358233Z"
    }
   },
   "outputs": [
    {
     "data": {
      "text/plain": [
       "['YouTube won’t let me add a mashup of “Thomas the Tank Engine” and “My Neck, My Back” to a playlist because it thinks the video is for kids',\n",
       " 'YouTube won’t let me add a mashup of Thomas the Tank Engine and My Neck, My Back because it thinks it’s for kids']"
      ]
     },
     "execution_count": 9,
     "metadata": {},
     "output_type": "execute_result"
    }
   ],
   "source": [
    "# checking for an odd repeated value\n",
    "[val[1][0] for val in results.iterrows() if val[1][1] == 'https://youtu.be/tmmCW8Cz7mE']"
   ]
  },
  {
   "cell_type": "code",
   "execution_count": 10,
   "metadata": {
    "ExecuteTime": {
     "end_time": "2020-01-28T21:11:12.266225Z",
     "start_time": "2020-01-28T21:11:12.243194Z"
    }
   },
   "outputs": [
    {
     "data": {
      "text/plain": [
       "                                                                                                                                                                                                                                                                                                                                                                                               12486\n",
       "[removed]                                                                                                                                                                                                                                                                                                                                                                                        488\n",
       "[deleted]                                                                                                                                                                                                                                                                                                                                                                                         86\n",
       "Help                                                                                                                                                                                                                                                                                                                                                                                              10\n",
       "What do I do?                                                                                                                                                                                                                                                                                                                                                                                      9\n",
       "                                                                                                                                                                                                                                                                                                                                                                                               ...  \n",
       "So I sat down with my tub of Ben and Jerry's for some quality gaming time on my Xbox, only to discover it's really hard to eat when I need to be holding my controller. So I had to go and watch some of my favourite TV show until I'd finished the ice cream, and only then could I return to my favourite video game.                                                                           1\n",
       "Dear father, just because 2015 me did not enjoy eating leftovers does not mean that 2020 me also doesn’t. IT WAS PRACTICALLY A WHOLE ASS BURGER. I was looking forward to eating that burger so much, and now a crappy tortilla with kraft singles on it will have to satisfy my hunger.                                                                                                           1\n",
       "I could easily plug my phone into an outlet in this room with my computer, but I keep my charger on the one outlet in my bedroom and don't feel like moving it around.                                                                                                                                                                                                                             1\n",
       "I think in a few of those timelines, I'm already in Time Court, but I think they're waiting for all of me to be present and accounted for to begin the trial. I've been to Time Prison before. I don't remember how I ended up there, and I'm worried that the memories are coming from my upcoming stay in Time Prison. How do you even serve your time when they take time away from you?        1\n",
       "My SpaghettiOs disappeared because of  the demons that live inside my head. That is the final straw. Does anybody know how to purge them?                                                                                                                                                                                                                                                          1\n",
       "Name: selftext, Length: 7249, dtype: int64"
      ]
     },
     "execution_count": 10,
     "metadata": {},
     "output_type": "execute_result"
    }
   ],
   "source": [
    "# looking at commonly repeated selftext\n",
    "results['selftext'].value_counts()"
   ]
  },
  {
   "cell_type": "code",
   "execution_count": 11,
   "metadata": {
    "ExecuteTime": {
     "end_time": "2020-01-28T21:11:12.534232Z",
     "start_time": "2020-01-28T21:11:12.270197Z"
    }
   },
   "outputs": [],
   "source": [
    "# exporting results\n",
    "results.to_csv('data/results_dirty.csv', index=False)"
   ]
  }
 ],
 "metadata": {
  "kernelspec": {
   "display_name": "Python 3",
   "language": "python",
   "name": "python3"
  },
  "language_info": {
   "codemirror_mode": {
    "name": "ipython",
    "version": 3
   },
   "file_extension": ".py",
   "mimetype": "text/x-python",
   "name": "python",
   "nbconvert_exporter": "python",
   "pygments_lexer": "ipython3",
   "version": "3.7.5"
  }
 },
 "nbformat": 4,
 "nbformat_minor": 2
}
