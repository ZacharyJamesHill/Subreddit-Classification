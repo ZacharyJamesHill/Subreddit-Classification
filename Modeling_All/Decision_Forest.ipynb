{
 "cells": [
  {
   "cell_type": "code",
   "execution_count": 1,
   "metadata": {
    "ExecuteTime": {
     "end_time": "2020-01-29T17:46:50.508189Z",
     "start_time": "2020-01-29T17:46:48.031541Z"
    }
   },
   "outputs": [],
   "source": [
    "import pandas as pd\n",
    "import numpy as np\n",
    "import matplotlib.pyplot as plt\n",
    "import seaborn as sns\n",
    "\n",
    "from sklearn.feature_extraction.text import CountVectorizer, TfidfVectorizer\n",
    "from sklearn.tree import DecisionTreeClassifier\n",
    "from sklearn.model_selection import train_test_split\n",
    "from sklearn.pipeline import Pipeline\n",
    "from sklearn.model_selection import GridSearchCV\n",
    "\n",
    "from nltk.corpus import stopwords"
   ]
  },
  {
   "cell_type": "code",
   "execution_count": 2,
   "metadata": {
    "ExecuteTime": {
     "end_time": "2020-01-29T17:46:50.592431Z",
     "start_time": "2020-01-29T17:46:50.508189Z"
    }
   },
   "outputs": [
    {
     "data": {
      "text/html": [
       "<div>\n",
       "<style scoped>\n",
       "    .dataframe tbody tr th:only-of-type {\n",
       "        vertical-align: middle;\n",
       "    }\n",
       "\n",
       "    .dataframe tbody tr th {\n",
       "        vertical-align: top;\n",
       "    }\n",
       "\n",
       "    .dataframe thead th {\n",
       "        text-align: right;\n",
       "    }\n",
       "</style>\n",
       "<table border=\"1\" class=\"dataframe\">\n",
       "  <thead>\n",
       "    <tr style=\"text-align: right;\">\n",
       "      <th></th>\n",
       "      <th>is_fifth</th>\n",
       "      <th>all_text</th>\n",
       "    </tr>\n",
       "  </thead>\n",
       "  <tbody>\n",
       "    <tr>\n",
       "      <th>0</th>\n",
       "      <td>1</td>\n",
       "      <td>Please help ! This coded message keep appearin...</td>\n",
       "    </tr>\n",
       "    <tr>\n",
       "      <th>1</th>\n",
       "      <td>1</td>\n",
       "      <td>Help : I accidentally changed `` dime dozen ''...</td>\n",
       "    </tr>\n",
       "    <tr>\n",
       "      <th>2</th>\n",
       "      <td>1</td>\n",
       "      <td>My universal remote controller n't controlling...</td>\n",
       "    </tr>\n",
       "    <tr>\n",
       "      <th>3</th>\n",
       "      <td>1</td>\n",
       "      <td>Accidentally programmed universe rain nuke eve...</td>\n",
       "    </tr>\n",
       "    <tr>\n",
       "      <th>4</th>\n",
       "      <td>1</td>\n",
       "      <td>Help I accidentally The Thing . I accidentally...</td>\n",
       "    </tr>\n",
       "  </tbody>\n",
       "</table>\n",
       "</div>"
      ],
      "text/plain": [
       "   is_fifth                                           all_text\n",
       "0         1  Please help ! This coded message keep appearin...\n",
       "1         1  Help : I accidentally changed `` dime dozen ''...\n",
       "2         1  My universal remote controller n't controlling...\n",
       "3         1  Accidentally programmed universe rain nuke eve...\n",
       "4         1  Help I accidentally The Thing . I accidentally..."
      ]
     },
     "execution_count": 2,
     "metadata": {},
     "output_type": "execute_result"
    }
   ],
   "source": [
    "main = pd.read_csv('../data/results.csv')\n",
    "main.head()\n"
   ]
  },
  {
   "cell_type": "code",
   "execution_count": 3,
   "metadata": {
    "ExecuteTime": {
     "end_time": "2020-01-29T17:46:50.602438Z",
     "start_time": "2020-01-29T17:46:50.594428Z"
    }
   },
   "outputs": [
    {
     "data": {
      "text/plain": [
       "0       Please help ! This coded message keep appearin...\n",
       "1       Help : I accidentally changed `` dime dozen ''...\n",
       "2       My universal remote controller n't controlling...\n",
       "3       Accidentally programmed universe rain nuke eve...\n",
       "4       Help I accidentally The Thing . I accidentally...\n",
       "                              ...                        \n",
       "4609    My wife us shared calendar personal reminder G...\n",
       "4610    Ca n't find car key car still start Ca n't fin...\n",
       "4611    𝕴 𝖉𝖎𝖘𝖈𝖔𝖛𝖊𝖗𝖊𝖉 𝖘𝖔𝖒𝖊 𝖓𝖊𝖜 𝖋𝖔𝖓𝖙𝖘 𝔹𝕦𝕥 𝕕𝕠𝕟 ' 𝕥 𝕜𝕟𝕠𝕨 𝕨...\n",
       "4612    Not Do ever go gargle mayonnaise pick wrong ja...\n",
       "4613    I ca n't read funny factoid Tropico 5 loading ...\n",
       "Name: all_text, Length: 4614, dtype: object"
      ]
     },
     "execution_count": 3,
     "metadata": {},
     "output_type": "execute_result"
    }
   ],
   "source": [
    "X = main['all_text']\n",
    "y = main['is_fifth']\n",
    "\n",
    "\n",
    "\n",
    "\n",
    "\n",
    "X"
   ]
  },
  {
   "cell_type": "code",
   "execution_count": 4,
   "metadata": {
    "ExecuteTime": {
     "end_time": "2020-01-29T17:46:50.634064Z",
     "start_time": "2020-01-29T17:46:50.602790Z"
    }
   },
   "outputs": [],
   "source": [
    "X_train, X_test, y_train, y_test = train_test_split(X, y, random_state = 42)\n",
    "stop = stopwords.words('english')\n",
    "\n",
    "\n",
    "\n",
    "\n",
    "\n",
    "params = {'cvec__max_features':[1000,1100,1250,1500], 'cvec__stop_words':[stop, None],\n",
    "          'cvec__min_df':[2,3,4,5,6], 'cvec__ngram_range':[(1,1), (1,2)]}"
   ]
  },
  {
   "cell_type": "code",
   "execution_count": 5,
   "metadata": {
    "ExecuteTime": {
     "end_time": "2020-01-29T17:46:50.649671Z",
     "start_time": "2020-01-29T17:46:50.634064Z"
    }
   },
   "outputs": [],
   "source": [
    "pipe = Pipeline([\n",
    "    ('cvec', CountVectorizer()),\n",
    "    ('dt', DecisionTreeClassifier(random_state=42))\n",
    "     ])"
   ]
  },
  {
   "cell_type": "code",
   "execution_count": 6,
   "metadata": {
    "ExecuteTime": {
     "end_time": "2020-01-29T17:46:50.665300Z",
     "start_time": "2020-01-29T17:46:50.649671Z"
    }
   },
   "outputs": [],
   "source": [
    "gs = GridSearchCV(pipe, params, cv=5)"
   ]
  },
  {
   "cell_type": "code",
   "execution_count": 7,
   "metadata": {
    "ExecuteTime": {
     "end_time": "2020-01-29T17:50:20.772674Z",
     "start_time": "2020-01-29T17:46:50.665300Z"
    }
   },
   "outputs": [
    {
     "data": {
      "text/plain": [
       "GridSearchCV(cv=5, error_score='raise-deprecating',\n",
       "             estimator=Pipeline(memory=None,\n",
       "                                steps=[('cvec',\n",
       "                                        CountVectorizer(analyzer='word',\n",
       "                                                        binary=False,\n",
       "                                                        decode_error='strict',\n",
       "                                                        dtype=<class 'numpy.int64'>,\n",
       "                                                        encoding='utf-8',\n",
       "                                                        input='content',\n",
       "                                                        lowercase=True,\n",
       "                                                        max_df=1.0,\n",
       "                                                        max_features=None,\n",
       "                                                        min_df=1,\n",
       "                                                        ngram_range=(1, 1),\n",
       "                                                        preprocessor=None,\n",
       "                                                        stop_words=None,\n",
       "                                                        strip_accents=None,\n",
       "                                                        tok...\n",
       "                         'cvec__ngram_range': [(1, 1), (1, 2)],\n",
       "                         'cvec__stop_words': [['i', 'me', 'my', 'myself', 'we',\n",
       "                                               'our', 'ours', 'ourselves',\n",
       "                                               'you', \"you're\", \"you've\",\n",
       "                                               \"you'll\", \"you'd\", 'your',\n",
       "                                               'yours', 'yourself',\n",
       "                                               'yourselves', 'he', 'him', 'his',\n",
       "                                               'himself', 'she', \"she's\", 'her',\n",
       "                                               'hers', 'herself', 'it', \"it's\",\n",
       "                                               'its', 'itself', ...],\n",
       "                                              None]},\n",
       "             pre_dispatch='2*n_jobs', refit=True, return_train_score=False,\n",
       "             scoring=None, verbose=0)"
      ]
     },
     "execution_count": 7,
     "metadata": {},
     "output_type": "execute_result"
    }
   ],
   "source": [
    "pipe.fit(X_train, y_train)\n",
    "\n",
    "gs.fit(X_train, y_train)"
   ]
  },
  {
   "cell_type": "code",
   "execution_count": 8,
   "metadata": {
    "ExecuteTime": {
     "end_time": "2020-01-29T17:50:21.054978Z",
     "start_time": "2020-01-29T17:50:20.775660Z"
    }
   },
   "outputs": [
    {
     "data": {
      "text/plain": [
       "(0.9997109826589595, 0.7790294627383015)"
      ]
     },
     "execution_count": 8,
     "metadata": {},
     "output_type": "execute_result"
    }
   ],
   "source": [
    "pipe.score(X_train, y_train), pipe.score(X_test, y_test)"
   ]
  },
  {
   "cell_type": "code",
   "execution_count": 9,
   "metadata": {
    "ExecuteTime": {
     "end_time": "2020-01-29T17:50:21.064978Z",
     "start_time": "2020-01-29T17:50:21.056977Z"
    }
   },
   "outputs": [
    {
     "data": {
      "text/plain": [
       "{'cvec__max_features': 1000,\n",
       " 'cvec__min_df': 4,\n",
       " 'cvec__ngram_range': (1, 1),\n",
       " 'cvec__stop_words': None}"
      ]
     },
     "execution_count": 9,
     "metadata": {},
     "output_type": "execute_result"
    }
   ],
   "source": [
    "gs.best_params_"
   ]
  },
  {
   "cell_type": "code",
   "execution_count": 10,
   "metadata": {
    "ExecuteTime": {
     "end_time": "2020-01-29T17:50:21.245210Z",
     "start_time": "2020-01-29T17:50:21.066976Z"
    }
   },
   "outputs": [
    {
     "data": {
      "text/plain": [
       "(0.9991329479768786, 0.7829479768786127)"
      ]
     },
     "execution_count": 10,
     "metadata": {},
     "output_type": "execute_result"
    }
   ],
   "source": [
    "gs.score(X_train, y_train), gs.best_score_"
   ]
  }
 ],
 "metadata": {
  "kernelspec": {
   "display_name": "Python 3",
   "language": "python",
   "name": "python3"
  },
  "language_info": {
   "codemirror_mode": {
    "name": "ipython",
    "version": 3
   },
   "file_extension": ".py",
   "mimetype": "text/x-python",
   "name": "python",
   "nbconvert_exporter": "python",
   "pygments_lexer": "ipython3",
   "version": "3.7.5"
  }
 },
 "nbformat": 4,
 "nbformat_minor": 2
}
